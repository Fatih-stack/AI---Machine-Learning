# -*- coding: utf-8 -*-
"""
Created on Sun Jun 25 17:02:05 2023

@author: Fatih Durmaz
t distribution 
    - standart deviation depends on degree of freedom
    - stddev -> sigma = karekök(df (df - 2))
    - if df(degree of freedom) >= 30 it is so similar to normal dist.
    - generally mean -> 0, stddev -> 1
from scipy.stats import t -> as below
    its funcntions params(generally) -> x values, df, mean, stddev
Compare t dist and standart normal dist
t distributions with various degree of freedom values
"""

from scipy.stats import norm,  t
import numpy as np
import matplotlib.pyplot as plt

DF = 3

x = np.linspace(-5, 5, 1000)

fig = plt.gcf()
fig.set_size_inches((10, 8))

axis = plt.gca()
axis.set_ylim(-0.5, 0.5)
axis.spines['left'].set_position('center')
axis.spines['bottom'].set_position('center')
axis.spines['top'].set_color(None)
axis.spines['right'].set_color(None)

y_norm = norm.pdf(x)
y_t = t.pdf(x, DF)

plt.plot(x, y_norm, color='blue')
plt.plot(x, y_t, color='red')

plt.legend(['Standart Normal Distribution', 't Distribution'], fontsize=14)

plt.show()

# t distributions with various degree of freedom values
plt.plot(x, y_norm, color='blue')

df_info = [(2, 'red'), (5, 'green'), (10, 'black')]

for df, color in df_info:
    y_t = t.pdf(x, df)
    plt.plot(x, y_t, color=color)
    
plt.legend(['Standart Normal Dağılım'] + [f'{t[0]} Serbestlik Derecesi' for t in df_info], fontsize=14)

plt.show()