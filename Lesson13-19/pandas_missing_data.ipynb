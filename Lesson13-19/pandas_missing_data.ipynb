{
 "cells": [
  {
   "cell_type": "code",
   "execution_count": 1,
   "metadata": {},
   "outputs": [],
   "source": [
    "import pandas as pd"
   ]
  },
  {
   "cell_type": "code",
   "execution_count": 18,
   "metadata": {},
   "outputs": [
    {
     "name": "stdout",
     "output_type": "stream",
     "text": [
      "Toplam satir sayisi: 13580, Toplam sütun sayisi: 21\n",
      "\n",
      "Eksik verilerin sütunlara göre dagilimi\n",
      "\n",
      "Suburb              0\n",
      "Address             0\n",
      "Rooms               0\n",
      "Type                0\n",
      "Price               0\n",
      "Method              0\n",
      "SellerG             0\n",
      "Date                0\n",
      "Distance            0\n",
      "Postcode            0\n",
      "Bedroom2            0\n",
      "Bathroom            0\n",
      "Car                62\n",
      "Landsize            0\n",
      "BuildingArea     6450\n",
      "YearBuilt        5375\n",
      "CouncilArea      1369\n",
      "Lattitude           0\n",
      "Longtitude          0\n",
      "Regionname          0\n",
      "Propertycount       0\n",
      "dtype: int64\n",
      "\n"
     ]
    }
   ],
   "source": [
    "df = pd.read_csv('melb_data.csv')\n",
    "print(f'Toplam satir sayisi: {df.shape[0]}, Toplam sütun sayisi: {df.shape[1]}', end='\\n\\n')\n",
    "missing_info = df.isna().sum()\n",
    "print('Eksik verilerin sütunlara göre dagilimi', end='\\n\\n')\n",
    "print(missing_info, end='\\n\\n')"
   ]
  },
  {
   "cell_type": "code",
   "execution_count": 19,
   "metadata": {},
   "outputs": [
    {
     "name": "stdout",
     "output_type": "stream",
     "text": [
      "Eksik verilerin ilişkin oldugu sütunlar\n",
      "\n",
      "['Car', 'BuildingArea', 'YearBuilt', 'CouncilArea']\n",
      "\n"
     ]
    }
   ],
   "source": [
    "missing_columns = [name for name in df.columns if df[name].isna().any()]\n",
    "print('Eksik verilerin ilişkin oldugu sütunlar', end='\\n\\n')\n",
    "print(missing_columns, end='\\n\\n')"
   ]
  },
  {
   "cell_type": "code",
   "execution_count": 20,
   "metadata": {},
   "outputs": [
    {
     "name": "stdout",
     "output_type": "stream",
     "text": [
      "Eksik verilerin oranlari\n",
      "\n",
      "0.04648292306613367\n",
      "\n"
     ]
    }
   ],
   "source": [
    "missing_ratio = df.isna().sum().sum() / df.size\n",
    "print('Eksik verilerin oranlari', end='\\n\\n')\n",
    "print(missing_ratio, end='\\n\\n')"
   ]
  },
  {
   "cell_type": "code",
   "execution_count": 21,
   "metadata": {},
   "outputs": [
    {
     "name": "stdout",
     "output_type": "stream",
     "text": [
      "Eksik veri içeren satirlarin sayisi\n",
      "\n",
      "7384\n",
      "\n"
     ]
    }
   ],
   "source": [
    "total_missing_rows = df.isna().any(axis=1).sum()\n",
    "print('Eksik veri içeren satirlarin sayisi', end='\\n\\n')\n",
    "print(total_missing_rows, end='\\n\\n')"
   ]
  },
  {
   "cell_type": "code",
   "execution_count": 22,
   "metadata": {},
   "outputs": [
    {
     "name": "stdout",
     "output_type": "stream",
     "text": [
      "Eksik veri içeren satirlarin orani\n",
      "\n",
      "0.543740795287187\n",
      "\n"
     ]
    }
   ],
   "source": [
    "total_missing_rows_ratio = df.isna().any(axis=1).sum() / len(df)\n",
    "print('Eksik veri içeren satirlarin orani', end='\\n\\n')\n",
    "print(total_missing_rows_ratio, end='\\n\\n')"
   ]
  },
  {
   "cell_type": "code",
   "execution_count": 23,
   "metadata": {},
   "outputs": [],
   "source": [
    "import numpy as np\n",
    "\n",
    "impute_val = np.round(df['Car'].mean())\n",
    "df['Car'] = df['Car'].fillna(impute_val)    # eşdeğeri # df['Car'].fillna(impute_val, inplace=True)"
   ]
  },
  {
   "cell_type": "code",
   "execution_count": 24,
   "metadata": {},
   "outputs": [],
   "source": [
    "impute_val = np.round(df['BuildingArea'].mean())\n",
    "df['BuildingArea'] = df['BuildingArea'].fillna(impute_val)    # eşdeğeri # df['BuildingArea'].fillna(impute_val, inplace=True)"
   ]
  },
  {
   "cell_type": "code",
   "execution_count": 25,
   "metadata": {},
   "outputs": [],
   "source": [
    "impute_val = df['YearBuilt'].median()\n",
    "df['YearBuilt'] = df['YearBuilt'].fillna(impute_val)    # eşdeğeri # df['YearBuilt'].fillna(impute_val, inplace=True)"
   ]
  },
  {
   "cell_type": "code",
   "execution_count": 26,
   "metadata": {},
   "outputs": [],
   "source": [
    "\n",
    "impute_val = df['CouncilArea'].mode()\n",
    "df['CouncilArea'] = df['CouncilArea'].fillna(impute_val[0])    # eşdeğeri # df['BuildingArea'].fillna(impute_val, inplace=True)"
   ]
  },
  {
   "cell_type": "code",
   "execution_count": 27,
   "metadata": {},
   "outputs": [
    {
     "data": {
      "text/plain": [
       "\"\\nsi.fit(df[['Car', 'BuildingArea']])\\ndf[['Car', 'BuildingArea']] = np.round(si.transform(df[['Car', 'BuildingArea']]))\\n\""
      ]
     },
     "execution_count": 27,
     "metadata": {},
     "output_type": "execute_result"
    }
   ],
   "source": [
    "from sklearn.impute import SimpleImputer\n",
    "\n",
    "si = SimpleImputer(strategy='mean')\n",
    "\n",
    "df[['Car', 'BuildingArea']] = np.round(si.fit_transform(df[['Car', 'BuildingArea']]))\n",
    "\n",
    "\"\"\"\n",
    "si.fit(df[['Car', 'BuildingArea']])\n",
    "df[['Car', 'BuildingArea']] = np.round(si.transform(df[['Car', 'BuildingArea']]))\n",
    "\"\"\""
   ]
  },
  {
   "cell_type": "code",
   "execution_count": 28,
   "metadata": {},
   "outputs": [
    {
     "data": {
      "text/plain": [
       "\"\\nsi.fit(df[['YearBuilt', 'CouncilArea']])\\ndf[['YearBuilt', 'CouncilArea']] = si.transform(df[['YearBuilt', 'CouncilArea']])\\n\""
      ]
     },
     "execution_count": 28,
     "metadata": {},
     "output_type": "execute_result"
    }
   ],
   "source": [
    "si.set_params(strategy='most_frequent')\n",
    "df[['YearBuilt', 'CouncilArea']] = si.fit_transform(df[['YearBuilt', 'CouncilArea']])\n",
    "\n",
    "\"\"\"\n",
    "si.fit(df[['YearBuilt', 'CouncilArea']])\n",
    "df[['YearBuilt', 'CouncilArea']] = si.transform(df[['YearBuilt', 'CouncilArea']])\n",
    "\"\"\""
   ]
  },
  {
   "cell_type": "code",
   "execution_count": 29,
   "metadata": {},
   "outputs": [
    {
     "name": "stdout",
     "output_type": "stream",
     "text": [
      "    Adı Soyadı  Kilo  Boy  Yaş Cinsiyet Renk Tercihi\n",
      "0  Sacit Bulut    78  172   34    Erkek      Kırmızı\n",
      "1      Ayşe Er    67  168   45    Kadın        Yeşil\n",
      "2    Ahmet San    85  182   32    Erkek      Kırmızı\n",
      "3    Macit Şen    98  192   65    Erkek         Mavi\n",
      "4  Talat Demir    85  181   49    Erkek        Yeşil\n",
      "5   Sibel Ünlü    72  172   34    Kadın         Mavi\n",
      "6    Ali Serçe    75  165   21    Erkek        Yeşil\n",
      "\n",
      "    Adı Soyadı  Kilo  Boy  Yaş Cinsiyet Renk Tercihi\n",
      "0  Sacit Bulut    78  172   34        0            0\n",
      "1      Ayşe Er    67  168   45        1            1\n",
      "2    Ahmet San    85  182   32        0            0\n",
      "3    Macit Şen    98  192   65        0            2\n",
      "4  Talat Demir    85  181   49        0            1\n",
      "5   Sibel Ünlü    72  172   34        1            2\n",
      "6    Ali Serçe    75  165   21        0            1\n",
      "\n"
     ]
    }
   ],
   "source": [
    "df = pd.read_csv('test.csv')\n",
    "\n",
    "def label_encode(df, colnames):\n",
    "    for colname in colnames:\n",
    "        labels = df[colname].unique()\n",
    "        for index, label in enumerate(labels):\n",
    "            df.loc[df[colname] == label, colname] = index\n",
    "        \n",
    "print(df, end='\\n\\n')        \n",
    "label_encode(df, ['Renk Tercihi', 'Cinsiyet'])\n",
    "print(df, end='\\n\\n')   "
   ]
  },
  {
   "cell_type": "code",
   "execution_count": 30,
   "metadata": {},
   "outputs": [
    {
     "name": "stdout",
     "output_type": "stream",
     "text": [
      "    Adı Soyadı  Kilo  Boy  Yaş  Cinsiyet  Renk Tercihi\n",
      "0  Sacit Bulut    78  172   34         0             0\n",
      "1      Ayşe Er    67  168   45         1             1\n",
      "2    Ahmet San    85  182   32         0             0\n",
      "3    Macit Şen    98  192   65         0             2\n",
      "4  Talat Demir    85  181   49         0             1\n",
      "5   Sibel Ünlü    72  172   34         1             2\n",
      "6    Ali Serçe    75  165   21         0             1\n"
     ]
    }
   ],
   "source": [
    "from sklearn.preprocessing import LabelEncoder\n",
    "\n",
    "le = LabelEncoder()\n",
    "\n",
    "df['Renk Tercihi'] = le.fit_transform(df['Renk Tercihi'])\n",
    "df['Cinsiyet'] = le.fit_transform(df['Cinsiyet'])\n",
    "print(df)"
   ]
  },
  {
   "cell_type": "code",
   "execution_count": 31,
   "metadata": {},
   "outputs": [
    {
     "name": "stdout",
     "output_type": "stream",
     "text": [
      "[2 1 1 1 2 2 1 0]\n"
     ]
    }
   ],
   "source": [
    "le.fit(df['Renk Tercihi'])\n",
    "result = le.inverse_transform(np.array([2, 1, 1, 1, 2, 2, 1, 0]))\n",
    "print(result)"
   ]
  }
 ],
 "metadata": {
  "kernelspec": {
   "display_name": "Python 3",
   "language": "python",
   "name": "python3"
  },
  "language_info": {
   "codemirror_mode": {
    "name": "ipython",
    "version": 3
   },
   "file_extension": ".py",
   "mimetype": "text/x-python",
   "name": "python",
   "nbconvert_exporter": "python",
   "pygments_lexer": "ipython3",
   "version": "3.11.9"
  }
 },
 "nbformat": 4,
 "nbformat_minor": 2
}
